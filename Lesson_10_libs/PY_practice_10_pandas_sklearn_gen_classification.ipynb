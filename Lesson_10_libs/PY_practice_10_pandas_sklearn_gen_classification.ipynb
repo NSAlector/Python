{
 "cells": [
  {
   "cell_type": "code",
   "execution_count": 1,
   "id": "f3c422d4",
   "metadata": {},
   "outputs": [
    {
     "name": "stdout",
     "output_type": "stream",
     "text": [
      "           Unnamed: 0     UBE2T     BIRC5      NUF2      CDC6     CCNB1  \\\n",
      "0    TCGA-A1-A0SB-01A  2.507502  2.172270  0.952906  1.683162  3.108067   \n",
      "1    TCGA-A1-A0SD-01A  3.016158  2.514871  1.509129  1.354016  3.685035   \n",
      "2    TCGA-A1-A0SE-01A  4.626989  3.289047  2.102190  2.116975  4.525954   \n",
      "3    TCGA-A1-A0SF-01A  3.417782  2.262844  1.569301  1.800667  3.823694   \n",
      "4    TCGA-A1-A0SG-01A  2.948244  2.298689  1.116282  1.552142  3.582144   \n",
      "..                ...       ...       ...       ...       ...       ...   \n",
      "910  TCGA-BH-A0BV-11A  1.870352  1.072286  0.608802  0.902198  2.587268   \n",
      "911  TCGA-BH-A0BC-11A  1.739019  1.219743  0.573760  0.935661  1.957932   \n",
      "912  TCGA-BH-A0DD-11A  1.464052  0.597237  0.340499  1.037614  1.665574   \n",
      "913  TCGA-BH-A0DH-11A  1.686862  1.206100  0.259961  0.704237  2.288728   \n",
      "914  TCGA-BH-A0C0-11A  1.491155  0.422435  0.243862  0.544113  1.995766   \n",
      "\n",
      "         TYMS     MYBL2     CEP55      MELK  ...      NAT1     FOXA1  \\\n",
      "0    3.332448  2.982268  1.613604  1.641565  ...  0.926850  2.869065   \n",
      "1    2.125453  3.047474  2.333704  1.996853  ...  4.905805  6.677118   \n",
      "2    2.906470  3.798966  2.745027  2.451070  ...  6.053451  6.690114   \n",
      "3    2.843952  3.807282  2.141323  2.082400  ...  6.883599  6.280921   \n",
      "4    2.886328  2.697313  1.968233  1.662241  ...  1.814486  6.284076   \n",
      "..        ...       ...       ...       ...  ...       ...       ...   \n",
      "910  2.266861  1.450288  0.952375  0.914605  ...  2.266702  4.919079   \n",
      "911  2.211228  1.837159  1.142789  0.948133  ...  1.798099  4.237113   \n",
      "912  1.312091  1.086920  0.623715  0.544445  ...  2.147100  1.172748   \n",
      "913  1.789974  1.095518  0.541392  0.526630  ...  2.361668  4.795254   \n",
      "914  1.335294  0.548986  0.267646  0.268340  ...  2.172031  5.350962   \n",
      "\n",
      "        BLVRA     MMP11    GPR160     FGFR4      GRB7   TMEM45B     ERBB2  \\\n",
      "0    3.896839  1.387963  1.141875  0.544443  2.942855  0.875017  5.014075   \n",
      "1    5.044878  5.631087  3.942169  3.404177  3.655783  2.757977  5.999041   \n",
      "2    5.843557  5.504526  3.881691  1.038253  3.156081  1.355837  5.585759   \n",
      "3    5.705410  3.511572  4.374803  2.299735  3.054917  1.315680  5.215699   \n",
      "4    4.622443  6.845350  3.381032  3.586285  2.845107  3.359571  5.786065   \n",
      "..        ...       ...       ...       ...       ...       ...       ...   \n",
      "910  4.153488  0.861931  2.403286  0.401022  4.044734  1.569947  4.871977   \n",
      "911  4.438927  0.786682  1.765614  0.761287  3.296281  1.124510  4.406197   \n",
      "912  5.040978  0.415481  1.626146  0.113552  0.794801  0.177137  3.166627   \n",
      "913  5.046676  1.342472  1.866943  0.619597  2.776416  1.925006  4.462839   \n",
      "914  4.301563  0.485694  2.878511  2.385736  3.181648  2.173951  5.016147   \n",
      "\n",
      "         Subtype  \n",
      "0    Normal-like  \n",
      "1      Luminal A  \n",
      "2      Luminal A  \n",
      "3      Luminal A  \n",
      "4      Luminal A  \n",
      "..           ...  \n",
      "910      Healthy  \n",
      "911      Healthy  \n",
      "912      Healthy  \n",
      "913      Healthy  \n",
      "914      Healthy  \n",
      "\n",
      "[915 rows x 52 columns]\n"
     ]
    }
   ],
   "source": [
    "#загружаем данные\n",
    "import pandas as pd\n",
    "\n",
    "# Read TSV file into DataFrame\n",
    "df = pd.read_table('BRCA_pam50.tsv')\n",
    "print(df)"
   ]
  },
  {
   "cell_type": "code",
   "execution_count": 2,
   "id": "12b50343",
   "metadata": {},
   "outputs": [
    {
     "name": "stdout",
     "output_type": "stream",
     "text": [
      "<class 'pandas.core.frame.DataFrame'>\n",
      "RangeIndex: 915 entries, 0 to 914\n",
      "Data columns (total 52 columns):\n",
      " #   Column      Non-Null Count  Dtype  \n",
      "---  ------      --------------  -----  \n",
      " 0   Unnamed: 0  915 non-null    object \n",
      " 1   UBE2T       915 non-null    float64\n",
      " 2   BIRC5       915 non-null    float64\n",
      " 3   NUF2        915 non-null    float64\n",
      " 4   CDC6        915 non-null    float64\n",
      " 5   CCNB1       915 non-null    float64\n",
      " 6   TYMS        915 non-null    float64\n",
      " 7   MYBL2       915 non-null    float64\n",
      " 8   CEP55       915 non-null    float64\n",
      " 9   MELK        915 non-null    float64\n",
      " 10  NDC80       915 non-null    float64\n",
      " 11  RRM2        915 non-null    float64\n",
      " 12  UBE2C       915 non-null    float64\n",
      " 13  CENPF       915 non-null    float64\n",
      " 14  PTTG1       915 non-null    float64\n",
      " 15  EXO1        915 non-null    float64\n",
      " 16  ORC6        915 non-null    float64\n",
      " 17  ANLN        915 non-null    float64\n",
      " 18  CCNE1       915 non-null    float64\n",
      " 19  CDC20       915 non-null    float64\n",
      " 20  MKI67       915 non-null    float64\n",
      " 21  KIF2C       915 non-null    float64\n",
      " 22  ACTR3B      915 non-null    float64\n",
      " 23  MYC         915 non-null    float64\n",
      " 24  EGFR        915 non-null    float64\n",
      " 25  KRT5        915 non-null    float64\n",
      " 26  PHGDH       915 non-null    float64\n",
      " 27  CDH3        915 non-null    float64\n",
      " 28  MIA         915 non-null    float64\n",
      " 29  KRT17       915 non-null    float64\n",
      " 30  FOXC1       915 non-null    float64\n",
      " 31  SFRP1       915 non-null    float64\n",
      " 32  KRT14       915 non-null    float64\n",
      " 33  ESR1        915 non-null    float64\n",
      " 34  SLC39A6     915 non-null    float64\n",
      " 35  BAG1        915 non-null    float64\n",
      " 36  MAPT        915 non-null    float64\n",
      " 37  PGR         915 non-null    float64\n",
      " 38  CXXC5       915 non-null    float64\n",
      " 39  MLPH        915 non-null    float64\n",
      " 40  BCL2        915 non-null    float64\n",
      " 41  MDM2        915 non-null    float64\n",
      " 42  NAT1        915 non-null    float64\n",
      " 43  FOXA1       915 non-null    float64\n",
      " 44  BLVRA       915 non-null    float64\n",
      " 45  MMP11       915 non-null    float64\n",
      " 46  GPR160      915 non-null    float64\n",
      " 47  FGFR4       915 non-null    float64\n",
      " 48  GRB7        915 non-null    float64\n",
      " 49  TMEM45B     915 non-null    float64\n",
      " 50  ERBB2       915 non-null    float64\n",
      " 51  Subtype     915 non-null    object \n",
      "dtypes: float64(50), object(2)\n",
      "memory usage: 371.8+ KB\n"
     ]
    }
   ],
   "source": [
    "#получаем информацию о таблице DataFrame, в которую помещены данные, о типах элементов в каждом столбце\n",
    "df.info()"
   ]
  },
  {
   "cell_type": "code",
   "execution_count": 3,
   "id": "d1ca4cc3",
   "metadata": {},
   "outputs": [
    {
     "data": {
      "text/plain": [
       "(array(['Normal-like', 'Luminal A', 'Luminal B', 'Triple-negative',\n",
       "        'HER2-enriched', 'Healthy'], dtype=object),\n",
       " 6)"
      ]
     },
     "execution_count": 3,
     "metadata": {},
     "output_type": "execute_result"
    }
   ],
   "source": [
    "#получаем информацию о количестве классов = количество униклаьных элементов в столбце Subtype\n",
    "df['Subtype'].unique(), df['Subtype'].unique().size"
   ]
  },
  {
   "cell_type": "code",
   "execution_count": 4,
   "id": "1bb61264",
   "metadata": {},
   "outputs": [],
   "source": [
    "# удаляем первый столбец\n",
    "df.drop(columns=df.columns[0], axis=1, inplace=True)"
   ]
  },
  {
   "cell_type": "code",
   "execution_count": 5,
   "id": "2b195cae",
   "metadata": {},
   "outputs": [],
   "source": [
    "#изменяем название подтипа на его номер\n",
    "import numpy as np\n",
    "from sklearn import preprocessing\n",
    "le = preprocessing.LabelEncoder()\n",
    "Y=le.fit_transform(df['Subtype'])"
   ]
  },
  {
   "cell_type": "code",
   "execution_count": 6,
   "id": "fd17bab5",
   "metadata": {},
   "outputs": [],
   "source": [
    "#разбиваем ввыборку на тестовую и тренировочную согласно заданию\n",
    "from sklearn.model_selection import train_test_split\n",
    "\n",
    "SEED = 17\n",
    "X_train, X_test, y_train, y_test = train_test_split(np.array(df.loc[:, df.columns != 'Subtype']), Y, test_size=0.2, random_state=SEED)"
   ]
  },
  {
   "cell_type": "code",
   "execution_count": 7,
   "id": "d95f719d",
   "metadata": {},
   "outputs": [],
   "source": [
    "#  выполняем нормализацию значений\n",
    "from sklearn.preprocessing import StandardScaler\n",
    "scaler = StandardScaler()\n",
    "scaler.fit(X_train)\n",
    "X_train = scaler.transform(X_train)\n",
    "X_test = scaler.transform(X_test)"
   ]
  },
  {
   "cell_type": "code",
   "execution_count": 9,
   "id": "0a28b19b",
   "metadata": {},
   "outputs": [
    {
     "data": {
      "text/plain": [
       "KNeighborsRegressor(n_neighbors=1, p=5)"
      ]
     },
     "execution_count": 9,
     "metadata": {},
     "output_type": "execute_result"
    }
   ],
   "source": [
    "# тренируем классификатор knn\n",
    "from sklearn.neighbors import KNeighborsRegressor\n",
    "reg = KNeighborsRegressor(n_neighbors=1,p=5)\n",
    "reg.fit(X_train,y_train)"
   ]
  },
  {
   "cell_type": "code",
   "execution_count": 10,
   "id": "311fb5c5",
   "metadata": {},
   "outputs": [],
   "source": [
    "#предсказываем значения\n",
    "y_pred = reg.predict(X_test)"
   ]
  },
  {
   "cell_type": "code",
   "execution_count": 11,
   "id": "0a9ed348",
   "metadata": {},
   "outputs": [
    {
     "data": {
      "text/plain": [
       "array([3, 5, 5, 2, 0, 3, 3, 5, 2, 2, 2, 3, 2, 1, 3, 3, 2, 3, 2, 0, 0, 2,\n",
       "       5, 2, 2, 2, 3, 2, 2, 5, 3, 5, 3, 5, 5, 2, 3, 3, 5, 3, 3, 3, 5, 4,\n",
       "       0, 2, 1, 3, 2, 4, 1, 2, 2, 2, 2, 3, 2, 1, 2, 2, 2, 1, 0, 5, 1, 2,\n",
       "       2, 2, 2, 2, 2, 5, 1, 3, 2, 0, 2, 1, 1, 5, 2, 3, 3, 1, 2, 2, 0, 2,\n",
       "       5, 1, 2, 2, 2, 2, 3, 3, 2, 2, 2, 3, 2, 2, 4, 2, 2, 2, 3, 2, 0, 1,\n",
       "       2, 2, 5, 2, 5, 5, 2, 3, 2, 2, 5, 2, 2, 1, 2, 3, 4, 1, 2, 2, 3, 3,\n",
       "       2, 2, 2, 5, 2, 2, 2, 5, 5, 2, 2, 2, 2, 2, 3, 5, 2, 5, 3, 2, 5, 2,\n",
       "       2, 3, 3, 4, 2, 2, 3, 2, 3, 0, 5, 3, 1, 2, 0, 3, 1, 2, 5, 1, 5, 5,\n",
       "       2, 5, 2, 3, 0, 2, 2])"
      ]
     },
     "execution_count": 11,
     "metadata": {},
     "output_type": "execute_result"
    }
   ],
   "source": [
    "y_pred = y_pred.astype(int)\n",
    "y_pred"
   ]
  },
  {
   "cell_type": "code",
   "execution_count": 12,
   "id": "82c494ba",
   "metadata": {},
   "outputs": [],
   "source": [
    "# считаем точность классификации\n",
    "from sklearn.metrics import accuracy_score\n",
    "acc = accuracy_score(y_test,y_pred)"
   ]
  },
  {
   "cell_type": "code",
   "execution_count": 13,
   "id": "e82e18a6",
   "metadata": {},
   "outputs": [
    {
     "data": {
      "text/plain": [
       "0.8743169398907104"
      ]
     },
     "execution_count": 13,
     "metadata": {},
     "output_type": "execute_result"
    }
   ],
   "source": [
    "acc"
   ]
  },
  {
   "cell_type": "code",
   "execution_count": 14,
   "id": "16b61ba9",
   "metadata": {},
   "outputs": [],
   "source": [
    "# считаем точность классификации по группам\n",
    "acc_group = []\n",
    "counts = []\n",
    "for i in range(6):\n",
    "    acc_group.append(accuracy_score(y_test[y_test==i],y_pred[y_test==i]))\n",
    "    counts.append(y_test[y_test==i].size)"
   ]
  },
  {
   "cell_type": "code",
   "execution_count": 15,
   "id": "1299cf02",
   "metadata": {},
   "outputs": [
    {
     "data": {
      "text/plain": [
       "[0.6153846153846154,\n",
       " 0.8947368421052632,\n",
       " 0.9382716049382716,\n",
       " 0.8,\n",
       " 0.6666666666666666,\n",
       " 0.90625]"
      ]
     },
     "execution_count": 15,
     "metadata": {},
     "output_type": "execute_result"
    }
   ],
   "source": [
    "\n",
    "acc_group"
   ]
  },
  {
   "cell_type": "markdown",
   "id": "95acbb2b",
   "metadata": {},
   "source": [
    "Общая точность 0.87, точность третьего класса 0.93 - в тестовой выборке представлено наибольшее количество значений, относящихся именно к этому классу. Классы, представленные меньшим количеством значений, классифицируются с меньшей точностью."
   ]
  },
  {
   "cell_type": "code",
   "execution_count": 16,
   "id": "62f8ccd8",
   "metadata": {},
   "outputs": [
    {
     "data": {
      "text/plain": [
       "[13, 19, 81, 35, 3, 32]"
      ]
     },
     "execution_count": 16,
     "metadata": {},
     "output_type": "execute_result"
    }
   ],
   "source": [
    "counts"
   ]
  },
  {
   "cell_type": "code",
   "execution_count": 17,
   "id": "7593d225",
   "metadata": {},
   "outputs": [
    {
     "data": {
      "text/plain": [
       "NearestCentroid()"
      ]
     },
     "execution_count": 17,
     "metadata": {},
     "output_type": "execute_result"
    }
   ],
   "source": [
    "# метод ближайших центроидов\n",
    "from sklearn.neighbors import NearestCentroid\n",
    "creg = NearestCentroid()\n",
    "creg.fit(X_train,y_train)"
   ]
  },
  {
   "cell_type": "code",
   "execution_count": 18,
   "id": "dff9b7e6",
   "metadata": {},
   "outputs": [],
   "source": [
    "# предсказание значений\n",
    "cy_pred = creg.predict(X_test)"
   ]
  },
  {
   "cell_type": "code",
   "execution_count": 19,
   "id": "9283fcc8",
   "metadata": {},
   "outputs": [
    {
     "data": {
      "text/plain": [
       "array([3, 5, 5, 2, 0, 3, 3, 5, 2, 3, 2, 3, 2, 1, 3, 3, 2, 3, 2, 0, 0, 2,\n",
       "       5, 2, 2, 2, 2, 3, 1, 5, 2, 5, 3, 5, 5, 3, 3, 0, 5, 3, 0, 3, 5, 1,\n",
       "       5, 2, 1, 3, 2, 3, 1, 2, 2, 2, 2, 3, 2, 1, 2, 2, 2, 1, 0, 5, 1, 2,\n",
       "       2, 2, 3, 2, 2, 5, 1, 3, 2, 0, 3, 4, 1, 5, 2, 0, 2, 1, 2, 1, 0, 3,\n",
       "       5, 1, 2, 2, 2, 2, 3, 3, 1, 2, 2, 3, 2, 2, 4, 3, 2, 2, 3, 2, 0, 1,\n",
       "       4, 4, 5, 3, 5, 5, 2, 3, 2, 4, 5, 2, 2, 1, 0, 3, 4, 1, 3, 2, 3, 3,\n",
       "       2, 2, 2, 5, 3, 2, 2, 5, 5, 2, 2, 2, 3, 2, 3, 5, 2, 5, 3, 4, 5, 2,\n",
       "       2, 3, 3, 4, 2, 2, 3, 2, 3, 0, 5, 2, 1, 2, 0, 3, 1, 2, 5, 4, 5, 5,\n",
       "       3, 5, 3, 0, 0, 3, 0])"
      ]
     },
     "execution_count": 19,
     "metadata": {},
     "output_type": "execute_result"
    }
   ],
   "source": [
    "cy_pred = cy_pred.astype(int)\n",
    "cy_pred"
   ]
  },
  {
   "cell_type": "code",
   "execution_count": 20,
   "id": "0a426538",
   "metadata": {},
   "outputs": [],
   "source": [
    "# точность \n",
    "c_acc = accuracy_score(y_test,cy_pred)"
   ]
  },
  {
   "cell_type": "code",
   "execution_count": 21,
   "id": "04c0fda6",
   "metadata": {},
   "outputs": [
    {
     "data": {
      "text/plain": [
       "0.819672131147541"
      ]
     },
     "execution_count": 21,
     "metadata": {},
     "output_type": "execute_result"
    }
   ],
   "source": [
    "c_acc"
   ]
  },
  {
   "cell_type": "markdown",
   "id": "0fc0d406",
   "metadata": {},
   "source": [
    "Общая точность уменьшилась."
   ]
  },
  {
   "cell_type": "code",
   "execution_count": 22,
   "id": "950c6a40",
   "metadata": {},
   "outputs": [],
   "source": [
    "#точность по группам\n",
    "c_acc_group = []\n",
    "for i in range(6):\n",
    "    c_acc_group.append(accuracy_score(y_test[y_test==i],cy_pred[y_test==i]))"
   ]
  },
  {
   "cell_type": "code",
   "execution_count": 23,
   "id": "5966f2c6",
   "metadata": {},
   "outputs": [
    {
     "data": {
      "text/plain": [
       "([1.0,\n",
       "  0.8421052631578947,\n",
       "  0.7407407407407407,\n",
       "  0.8285714285714286,\n",
       "  0.6666666666666666,\n",
       "  0.9375],\n",
       " [0.6153846153846154,\n",
       "  0.8947368421052632,\n",
       "  0.9382716049382716,\n",
       "  0.8,\n",
       "  0.6666666666666666,\n",
       "  0.90625],\n",
       " [13, 19, 81, 35, 3, 32])"
      ]
     },
     "execution_count": 23,
     "metadata": {},
     "output_type": "execute_result"
    }
   ],
   "source": [
    "c_acc_group,acc_group,counts"
   ]
  },
  {
   "cell_type": "code",
   "execution_count": 25,
   "id": "b92851b2",
   "metadata": {},
   "outputs": [
    {
     "data": {
      "text/plain": [
       "(0.8359306831894551, 0.8035516215158026)"
      ]
     },
     "execution_count": 25,
     "metadata": {},
     "output_type": "execute_result"
    }
   ],
   "source": [
    "sum(c_acc_group)/len(c_acc_group), sum(acc_group)/len(acc_group)"
   ]
  },
  {
   "cell_type": "markdown",
   "id": "3ea56996",
   "metadata": {},
   "source": [
    "Точность по каждому классу в среднем увеличилась."
   ]
  },
  {
   "cell_type": "code",
   "execution_count": 26,
   "id": "3712a104",
   "metadata": {},
   "outputs": [],
   "source": [
    "class_1_point = np.array([1,0,1])\n",
    "class_2_point = np.array([0,0.5,0])\n",
    "test_point = np.array([1,0,-1])"
   ]
  },
  {
   "cell_type": "markdown",
   "id": "217db8b6",
   "metadata": {},
   "source": [
    "Примеры двуклассовой выборки"
   ]
  },
  {
   "cell_type": "code",
   "execution_count": 28,
   "id": "18a369b1",
   "metadata": {},
   "outputs": [
    {
     "data": {
      "text/plain": [
       "(2.0, 2.5)"
      ]
     },
     "execution_count": 28,
     "metadata": {},
     "output_type": "execute_result"
    }
   ],
   "source": [
    "import math\n",
    "np.linalg.norm(class_1_point-test_point, ord=1), np.linalg.norm(class_2_point-test_point, ord=1)"
   ]
  },
  {
   "cell_type": "code",
   "execution_count": 29,
   "id": "2e1e23f1",
   "metadata": {},
   "outputs": [
    {
     "data": {
      "text/plain": [
       "(2.0, 1.5)"
      ]
     },
     "execution_count": 29,
     "metadata": {},
     "output_type": "execute_result"
    }
   ],
   "source": [
    "np.linalg.norm(class_1_point-test_point, ord=2), np.linalg.norm(class_2_point-test_point, ord=2)"
   ]
  },
  {
   "cell_type": "code",
   "execution_count": null,
   "id": "21f4e8b2",
   "metadata": {},
   "outputs": [],
   "source": []
  }
 ],
 "metadata": {
  "kernelspec": {
   "display_name": "Python 3 (ipykernel)",
   "language": "python",
   "name": "python3"
  },
  "language_info": {
   "codemirror_mode": {
    "name": "ipython",
    "version": 3
   },
   "file_extension": ".py",
   "mimetype": "text/x-python",
   "name": "python",
   "nbconvert_exporter": "python",
   "pygments_lexer": "ipython3",
   "version": "3.10.4"
  }
 },
 "nbformat": 4,
 "nbformat_minor": 5
}
